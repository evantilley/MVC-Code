{
 "cells": [
  {
   "cell_type": "code",
   "execution_count": null,
   "metadata": {},
   "outputs": [],
   "source": [
    "def q_func(X,Y):\n",
    "    return 13-X*Y**3 + (Y-2)**3\n",
    "\n",
    "def z_func(X,Y):\n",
    "    return (15-X*Y**2+4*(X+4)**2)\n",
    "def mystery_func(X,Y):\n",
    "    return math.sin(X)*math.cos(Y)*math.cos(X*Y)\n",
    "def mystery_func1(X,Y):\n",
    "    return X/9*Y"
   ]
  }
 ],
 "metadata": {
  "kernelspec": {
   "display_name": "Python 3",
   "language": "python",
   "name": "python3"
  },
  "language_info": {
   "codemirror_mode": {
    "name": "ipython",
    "version": 3
   },
   "file_extension": ".py",
   "mimetype": "text/x-python",
   "name": "python",
   "nbconvert_exporter": "python",
   "pygments_lexer": "ipython3",
   "version": "3.7.4"
  }
 },
 "nbformat": 4,
 "nbformat_minor": 2
}
