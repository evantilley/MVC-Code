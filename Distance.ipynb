{
 "cells": [
  {
   "cell_type": "code",
   "execution_count": null,
   "metadata": {},
   "outputs": [],
   "source": [
    "import math"
   ]
  },
  {
   "cell_type": "code",
   "execution_count": null,
   "metadata": {},
   "outputs": [],
   "source": [
    "def closestDistance(x,y,listOfPoints):\n",
    "    \"\"\"Returns the point with the closest distance to another point, chosen from a list of points\"\"\"\n",
    "    currentList = []\n",
    "    listOfPoints = listOfPoints.values.tolist()\n",
    "    for i in range(len(listOfPoints)):\n",
    "        dist = calculateDistance(x,y,listOfPoints[i][0],listOfPoints[i][1])\n",
    "        currentList.append([dist, i])\n",
    "    currentList = sorted(currentList, key=lambda x: x[0])\n",
    "    return currentList[0][1]\n",
    "    "
   ]
  },
  {
   "cell_type": "code",
   "execution_count": null,
   "metadata": {},
   "outputs": [],
   "source": [
    "def calculateDistance(x1,y1,x2,y2):\n",
    "    \"\"\"Returns the distance between two points\"\"\"\n",
    "    return math.sqrt(((x2-x1)**2)+(y2-y1)**2)"
   ]
  },
  {
   "cell_type": "code",
   "execution_count": null,
   "metadata": {},
   "outputs": [],
   "source": [
    "\n",
    "    "
   ]
  },
  {
   "cell_type": "code",
   "execution_count": null,
   "metadata": {},
   "outputs": [],
   "source": []
  }
 ],
 "metadata": {
  "kernelspec": {
   "display_name": "Python 3",
   "language": "python",
   "name": "python3"
  },
  "language_info": {
   "codemirror_mode": {
    "name": "ipython",
    "version": 3
   },
   "file_extension": ".py",
   "mimetype": "text/x-python",
   "name": "python",
   "nbconvert_exporter": "python",
   "pygments_lexer": "ipython3",
   "version": "3.7.4"
  }
 },
 "nbformat": 4,
 "nbformat_minor": 2
}
