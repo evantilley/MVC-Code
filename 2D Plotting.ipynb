{
 "cells": [
  {
   "cell_type": "code",
   "execution_count": null,
   "metadata": {},
   "outputs": [],
   "source": [
    "def lineGrapher(a,b,c,d,list1,points):\n",
    "    \"\"\"Special function to be used in combination with smart mesh analysis\n",
    "    graphs horizontal and vertical lines depending on list1\"\"\"\n",
    "    points = np.array(points)\n",
    "    w = b - a\n",
    "    h = d - c\n",
    "    fig, ax = plt.subplots(1,figsize=(4,h/w*4))    \n",
    "    ax.set_xlim([a,b])\n",
    "    ax.set_ylim([c,d])\n",
    "    for i in range(len(list1)):\n",
    "        if list1[i][1] == 'x':\n",
    "            ax.axvline(x = list1[i][0])\n",
    "        if list1[i][1] == 'y':\n",
    "            ax.axhline(y = list1[i][0])\n",
    "    ax.scatter(points[:,0],points[:,1])"
   ]
  }
 ],
 "metadata": {
  "kernelspec": {
   "display_name": "Python 3",
   "language": "python",
   "name": "python3"
  },
  "language_info": {
   "codemirror_mode": {
    "name": "ipython",
    "version": 3
   },
   "file_extension": ".py",
   "mimetype": "text/x-python",
   "name": "python",
   "nbconvert_exporter": "python",
   "pygments_lexer": "ipython3",
   "version": "3.7.4"
  }
 },
 "nbformat": 4,
 "nbformat_minor": 2
}
