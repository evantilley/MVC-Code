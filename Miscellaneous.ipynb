{
 "cells": [
  {
   "cell_type": "code",
   "execution_count": null,
   "metadata": {},
   "outputs": [],
   "source": [
    "def neatener(values):\n",
    "    \"\"\"Takes a list in the format [num, 'x'] and extracts the numbers\n",
    "    returns a list of xvals and a list of yvals\"\"\"\n",
    "    xvals = []\n",
    "    yvals = []\n",
    "    for i in range(len(values)):\n",
    "        if (values[i][1] == 'x'):\n",
    "            xvals.append(values[i][0])\n",
    "        if (values[i][1] == 'y'):\n",
    "            yvals.append(values[i][0])\n",
    "    return xvals,yvals"
   ]
  }
 ],
 "metadata": {
  "kernelspec": {
   "display_name": "Python 3",
   "language": "python",
   "name": "python3"
  },
  "language_info": {
   "codemirror_mode": {
    "name": "ipython",
    "version": 3
   },
   "file_extension": ".py",
   "mimetype": "text/x-python",
   "name": "python",
   "nbconvert_exporter": "python",
   "pygments_lexer": "ipython3",
   "version": "3.7.4"
  }
 },
 "nbformat": 4,
 "nbformat_minor": 2
}
