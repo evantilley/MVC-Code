{
 "cells": [
  {
   "cell_type": "code",
   "execution_count": 1,
   "metadata": {},
   "outputs": [],
   "source": [
    "#Functions in this file generate points"
   ]
  },
  {
   "cell_type": "code",
   "execution_count": 3,
   "metadata": {},
   "outputs": [],
   "source": [
    "import pandas as pd"
   ]
  },
  {
   "cell_type": "code",
   "execution_count": null,
   "metadata": {},
   "outputs": [],
   "source": [
    "def uniformRandomGenerator(a,b,c,d,number):\n",
    "    \"\"\"Picks number random points anywhere on the region [a,b] x [c,d]\"\"\"\n",
    "    w = b - a\n",
    "    h = d - c\n",
    "    randomListx = []\n",
    "    randomListy = []\n",
    "    randx = []\n",
    "    randy = []\n",
    "    for i in range(number):\n",
    "        randomListx.append(a + np.random.rand(1)*w)\n",
    "        randomListy.append(c + np.random.rand(1)*h)\n",
    "    for i in range(number):\n",
    "        randx.append(randomListx[i].item(0))\n",
    "        randy.append(randomListy[i].item(0))\n",
    "    d = {'x': randx, 'y': randy}\n",
    "    randomPointsList = pd.DataFrame(data=d)\n",
    "    return randomPointsList"
   ]
  },
  {
   "cell_type": "code",
   "execution_count": null,
   "metadata": {},
   "outputs": [],
   "source": [
    "def centerSubAreaGenerator(a,b,c,d,n):\n",
    "    \"\"\"Picks the central point of each subarea on the region [a,b] x [c,d] with n^2 equal subareas\"\"\"\n",
    "    centerx = []\n",
    "    centery = []\n",
    "    w = b - a\n",
    "    h = d - c\n",
    "    for i in range(n):\n",
    "        for j in range(n):\n",
    "            centerx.append((((w/n)*(i+1)+(w/n)*(i))/2)+a)\n",
    "            centery.append((((h/n)*(j+1)+(h/n)*(j))/2)+c)\n",
    "    d = {'x': centerx, 'y': centery}\n",
    "    centerPoints = pd.DataFrame(data=d)\n",
    "    return centerPoints"
   ]
  },
  {
   "cell_type": "code",
   "execution_count": 6,
   "metadata": {},
   "outputs": [],
   "source": [
    "def subAreaRandomGenerator(a,b,c,d,n):\n",
    "    \"\"\"Picks a random point in each one of the n^2 subareas of a region [a,b] x [c,d]\"\"\"\n",
    "    w = b - a\n",
    "    h = d - c\n",
    "    randomListx = []\n",
    "    randomListy = []\n",
    "    randx = []\n",
    "    randy = []\n",
    "    for i in range(n):\n",
    "        for j in range(n):\n",
    "            randomListx.append(np.random.rand(1)*(w/n)+(i*(w/n)) + a)\n",
    "            randomListy.append(np.random.rand(1)*(h/n)+(j*(h/n)) + c)\n",
    "    for i in range(n*n):\n",
    "        randx.append(randomListx[i].item(0))\n",
    "        randy.append(randomListy[i].item(0))\n",
    "    d = {'x': randx, 'y': randy}\n",
    "    randomPoints = pd.DataFrame(data=d)\n",
    "    return randomPoints"
   ]
  },
  {
   "cell_type": "code",
   "execution_count": null,
   "metadata": {},
   "outputs": [],
   "source": [
    "def generateCluster(a,b,c,d,number):\n",
    "    \"\"\"Generates number points in random clusters over the region [a,b] x [c,d]\"\"\"\n",
    "    w = b - a\n",
    "    h = d - c\n",
    "    x = ((w/4 + w/6*np.random.randn(number)) % w) + a\n",
    "    y = ((h/4 + h/6*np.random.randn(number)) % h) + c\n",
    "    d = {'x': x, 'y': y}\n",
    "    return pd.DataFrame(data=d)\n",
    "    "
   ]
  }
 ],
 "metadata": {
  "kernelspec": {
   "display_name": "Python 3",
   "language": "python",
   "name": "python3"
  },
  "language_info": {
   "codemirror_mode": {
    "name": "ipython",
    "version": 3
   },
   "file_extension": ".py",
   "mimetype": "text/x-python",
   "name": "python",
   "nbconvert_exporter": "python",
   "pygments_lexer": "ipython3",
   "version": "3.7.4"
  }
 },
 "nbformat": 4,
 "nbformat_minor": 2
}
