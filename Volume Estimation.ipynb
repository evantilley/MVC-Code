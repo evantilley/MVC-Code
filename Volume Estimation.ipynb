{
 "cells": [
  {
   "cell_type": "code",
   "execution_count": null,
   "metadata": {},
   "outputs": [],
   "source": [
    "def volumeEstimate(a,b,c,d,n,f,points):\n",
    "    #very useful for estimating volume once you've picked points\n",
    "    \"\"\"Given a list of points, a region, and a function, estimates the volume between the region and the surface\"\"\"\n",
    "    points = points.values.tolist()\n",
    "    list1 = []\n",
    "    dx = (b-a)/n\n",
    "    dy = (d-c)/n\n",
    "    for i in range(len(points)):\n",
    "        list1.append((dx + a) * (dy + c) * f(points[i][0],points[i][1]))\n",
    "    return sum(list1)"
   ]
  },
  {
   "cell_type": "code",
   "execution_count": 1,
   "metadata": {},
   "outputs": [],
   "source": [
    "def MeshXVolumeEstimator(f,xVals,points,a,b,c,d):\n",
    "    \"\"\"Parameters\n",
    "    f: A function\n",
    "    xVals: a list of x values corresponding to vertical lines\n",
    "    points: a list of the points on the region\n",
    "    a,b,c,d: coordinates of the region [a,b] x [c,d]\n",
    "    \n",
    "    Returns an estimate of the volume between the surface and the region based on these inputs\n",
    "    Designed to work with a mesh analysis technique that recursively divides the x-axis   \"\"\"\n",
    "    height = d - c\n",
    "    df = pd.DataFrame()\n",
    "    volumes = []\n",
    "    oldX = [] #used for contour plot\n",
    "    oldY= [] #used for contour plot\n",
    "    xs = xVals[:] #clone list so that function can be reused without inserting into xVals every time\n",
    "    xs.insert(0,0)\n",
    "    xs.insert(len(xs),b)\n",
    "    xs = np.array(xs) #NUMPIZE xs\n",
    "    dxs = xs[1:] - xs[:-1] #intervals between x-values\n",
    "    for i in range(1,len(xs)):\n",
    "        point = filterbox_x(points,xs[i-1],xs[i],3,3,0,1) #get all points from each region - no need to account for case when\n",
    "        #there isn't a point because there always will be since we did mesh analysis\n",
    "        centerx = (xs[i] - xs[i-1])/2 + xs[i-1] #center x value of each region\n",
    "        centery = (height)/2\n",
    "        oldX.append(centerx)\n",
    "        oldY.append(centery)\n",
    "        closest = closestDistance(centerx,centery,point)\n",
    "        estimatePoint = point.iloc[closest] #find point closest to the center of each subarea\n",
    "        df = df.append(estimatePoint, ignore_index = True)\n",
    "    dfOld = pd.DataFrame({'Old X': oldX, 'Old Y': oldY})\n",
    "    for i in range(len(dxs)):\n",
    "        volumes.append(dxs[i] * height * f(df.iloc[i]['x'],df.iloc[i]['y'])) #volume estimate of each subarea\n",
    "    print(sum(volumes))\n",
    "    return df.join(dfOld) #return table"
   ]
  },
  {
   "cell_type": "code",
   "execution_count": null,
   "metadata": {},
   "outputs": [],
   "source": [
    "def MeshYVolumeEstimator(f,yVals,points,a,b,c,d):\n",
    "    \"\"\"Parameters\n",
    "    f: A function\n",
    "    yVals: a list of y values corresponding to horizontal lines\n",
    "    points: a list of the points on the region\n",
    "    a,b,c,d: coordinates of the region [a,b] x [c,d]\n",
    "\n",
    "    Returns an estimate of the volume between the surface and the region based on these inputs\n",
    "    Designed to work with a mesh analysis technique that recursively divides the y-axis   \"\"\"\n",
    "    height = d - c\n",
    "    width = b - a\n",
    "    df = pd.DataFrame()\n",
    "    volumes = []\n",
    "    oldX = [] #used for contour plot\n",
    "    oldY= [] #used for contour plot\n",
    "    ys = yVals[:] #clone list so that function can be reused without inserting into yVals every time\n",
    "    ys.insert(0,0)\n",
    "    ys.insert(len(ys),d)\n",
    "    ys = np.array(ys) #NUMPIZE ys ;)\n",
    "    dys = ys[1:] - ys[:-1] #intervals between y-values\n",
    "    for i in range(1,len(ys)):\n",
    "        point = filterbox_y(points,3,3,ys[i-1],ys[i],0,1) #get all points from each region - no need to account for case when\n",
    "        #there isn't a point because there always will be since we did mesh analysis\n",
    "        centerx = (width)/2 #center x value of each region\n",
    "        centery = (ys[i] - ys[i-1])/2 + ys[i-1] #center y value of each region\n",
    "        oldX.append(centerx)\n",
    "        oldY.append(centery)\n",
    "        closest = closestDistance(centerx,centery,point)\n",
    "        estimatePoint = point.iloc[closest] #find point closest to the center of each subarea\n",
    "        df = df.append(estimatePoint, ignore_index = True)\n",
    "    dfOld = pd.DataFrame({'Old X': oldX, 'Old Y': oldY})\n",
    "    for i in range(len(dys)):\n",
    "        volumes.append(dys[i] * width * f(df.iloc[i]['x'],df.iloc[i]['y'])) #volume estimate of each subarea\n",
    "    print(sum(volumes))\n",
    "    return df.join(dfOld) #return table"
   ]
  }
 ],
 "metadata": {
  "kernelspec": {
   "display_name": "Python 3",
   "language": "python",
   "name": "python3"
  },
  "language_info": {
   "codemirror_mode": {
    "name": "ipython",
    "version": 3
   },
   "file_extension": ".py",
   "mimetype": "text/x-python",
   "name": "python",
   "nbconvert_exporter": "python",
   "pygments_lexer": "ipython3",
   "version": "3.7.4"
  }
 },
 "nbformat": 4,
 "nbformat_minor": 2
}
