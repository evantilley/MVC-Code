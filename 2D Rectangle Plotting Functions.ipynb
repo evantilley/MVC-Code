{
 "cells": [
  {
   "cell_type": "code",
   "execution_count": 10,
   "metadata": {},
   "outputs": [],
   "source": [
    "import numpy as np\n",
    "import matplotlib.pyplot as plt\n",
    "from matplotlib.patches import Rectangle"
   ]
  },
  {
   "cell_type": "code",
   "execution_count": 12,
   "metadata": {},
   "outputs": [],
   "source": [
    "def plotRectangle(a,b,c,d,n):\n",
    "    \"\"\"Displays an n x n grid of subrectangles in the region [a,b] x [c,d]\"\"\"\n",
    "    w = b - a\n",
    "    h = d - c\n",
    "    dx = w / n\n",
    "    dy = h / n\n",
    "    fig, ax = plt.subplots(1,figsize=(4,h/w*4))    \n",
    "    ax.set_xlim([a,b])\n",
    "    ax.set_ylim([c,d])\n",
    "    for i,j in [(i,j) for i in range(n) for j in range(n)]:\n",
    "        ax.add_patch(Rectangle((a+i*dx,c+j*dy), dx, dy, alpha=.3, ec='black', color='blue' ))\n",
    "        ax.text(a + (i+1/2)*dx, c + (j + 1/2)*dy, \"$R_{{{}{}}}$\".format(i,j), horizontalalignment='center', verticalalignment='center',fontsize = 10)"
   ]
  },
  {
   "cell_type": "code",
   "execution_count": 13,
   "metadata": {},
   "outputs": [],
   "source": [
    "def plotRectangleList(a,b,c,d,n,list1):\n",
    "    \"\"\"Display an n x n grid of subractangles rectangles in the region\n",
    "    [a,b] x [c,d]; plots the points in list1 on the region\"\"\"\n",
    "    w = b - a\n",
    "    h = d - c\n",
    "    dx = w / n\n",
    "    dy = h / n\n",
    "    list1 = np.array(list1)\n",
    "    fig, ax = plt.subplots(1,figsize=(4,h/w*4))    \n",
    "    ax.set_xlim([a,b])\n",
    "    ax.set_ylim([c,d])\n",
    "    for i,j in [(i,j) for i in range(n) for j in range(n)]:\n",
    "        ax.add_patch(Rectangle((a+i*dx,c+j*dy), dx, dy, alpha=.3, ec='black', color='blue' ))\n",
    "        ax.text(a + (i+1/2)*dx, c + (j + 1/2)*dy, \"$R_{{{}{}}}$\".format(i,j), horizontalalignment='center', verticalalignment='center',fontsize = 10)\n",
    "    plt.scatter(list1[:,0],list1[:,1])"
   ]
  },
  {
   "cell_type": "code",
   "execution_count": 2,
   "metadata": {},
   "outputs": [],
   "source": [
    "def verticalLineGraph(a,b,c,d,list1,points):\n",
    "    \"\"\"Graphs the rectangle [a,b] x [c,d], as well as the list of vertical lines on the \n",
    "    rectangle and the points on the rectangle\"\"\"\n",
    "    points = np.array(points)\n",
    "    w = b - a\n",
    "    h = d - c\n",
    "    dx = w / n\n",
    "    dy = h / n\n",
    "    fig, ax = plt.subplots(1,figsize=(4,h/w*4))    \n",
    "    ax.set_xlim([a,b])\n",
    "    ax.set_ylim([c,d])\n",
    "    ax.add_patch(Rectangle((a,c), w, h, alpha=.3, ec='black', color='blue' ))\n",
    "    for i in list1:\n",
    "        ax.axvline(x=i)\n",
    "    ax.scatter(points[:,0],points[:,1])"
   ]
  },
  {
   "cell_type": "code",
   "execution_count": 3,
   "metadata": {},
   "outputs": [],
   "source": [
    "def horizontalLineGraph(a,b,c,d,list1,points):\n",
    "    \"\"\"Graphs the rectangle [a,b] x [c,d], as well as the list of horizontal lines on the \n",
    "    rectangle and the points on the rectangle\"\"\"\n",
    "    points = np.array(points)\n",
    "    w = b - a\n",
    "    h = d - c\n",
    "    dx = w / n\n",
    "    dy = h / n\n",
    "    fig, ax = plt.subplots(1,figsize=(4,h/w*4))    \n",
    "    ax.set_xlim([a,b])\n",
    "    ax.set_ylim([c,d])\n",
    "    ax.add_patch(Rectangle((a,c), w, h, alpha=.3, ec='black', color='blue' ))\n",
    "    for i in list1:\n",
    "        ax.axhline(y=i)\n",
    "    ax.scatter(points[:,0],points[:,1])"
   ]
  },
  {
   "cell_type": "code",
   "execution_count": null,
   "metadata": {},
   "outputs": [],
   "source": []
  }
 ],
 "metadata": {
  "kernelspec": {
   "display_name": "Python 3",
   "language": "python",
   "name": "python3"
  },
  "language_info": {
   "codemirror_mode": {
    "name": "ipython",
    "version": 3
   },
   "file_extension": ".py",
   "mimetype": "text/x-python",
   "name": "python",
   "nbconvert_exporter": "python",
   "pygments_lexer": "ipython3",
   "version": "3.7.4"
  }
 },
 "nbformat": 4,
 "nbformat_minor": 2
}
