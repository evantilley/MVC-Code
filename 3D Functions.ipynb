{
 "cells": [
  {
   "cell_type": "code",
   "execution_count": 2,
   "metadata": {},
   "outputs": [],
   "source": [
    "import numpy as np\n",
    "from numpy import arange,meshgrid\n",
    "import matplotlib.pyplot as plt\n",
    "from mpl_toolkits import mplot3d\n",
    "from matplotlib import cm\n",
    "from matplotlib.pyplot import cm,imshow,contour,clabel,colorbar,axis,title,show\n",
    "from matplotlib.transforms import Affine2D\n",
    "from mpl_toolkits.mplot3d import Axes3D, art3d"
   ]
  },
  {
   "cell_type": "code",
   "execution_count": 5,
   "metadata": {},
   "outputs": [],
   "source": [
    "def graphSurface(f):\n",
    "    \"\"\"Graphs a 3D representation of a function of two variables, f(x,y)\"\"\"\n",
    "    x = arange(-5,5,0.25)\n",
    "    y = arange(-5,5,0.25)\n",
    "    X,Y = meshgrid(x, y) # grid of points\n",
    "    Z = f(X, Y)\n",
    "    fig = plt.figure()\n",
    "    ax = fig.add_subplot(111,projection = '3d')\n",
    "    surf = ax.plot_surface(X, Y, Z, cmap=cm.coolwarm, linewidth=0, antialiased=False)\n",
    "    fig.colorbar(surf, shrink=0.5, aspect=5)\n",
    "    plt.show()"
   ]
  },
  {
   "cell_type": "code",
   "execution_count": null,
   "metadata": {},
   "outputs": [],
   "source": []
  }
 ],
 "metadata": {
  "kernelspec": {
   "display_name": "Python 3",
   "language": "python",
   "name": "python3"
  },
  "language_info": {
   "codemirror_mode": {
    "name": "ipython",
    "version": 3
   },
   "file_extension": ".py",
   "mimetype": "text/x-python",
   "name": "python",
   "nbconvert_exporter": "python",
   "pygments_lexer": "ipython3",
   "version": "3.7.4"
  }
 },
 "nbformat": 4,
 "nbformat_minor": 2
}
